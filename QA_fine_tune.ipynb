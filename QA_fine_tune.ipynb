{
  "nbformat": 4,
  "nbformat_minor": 0,
  "metadata": {
    "colab": {
      "provenance": []
    },
    "kernelspec": {
      "name": "python3",
      "display_name": "Python 3"
    },
    "language_info": {
      "name": "python"
    },
    "accelerator": "GPU",
    "gpuClass": "standard",
    "widgets": {
      "application/vnd.jupyter.widget-state+json": {
        "3ca9855d88e64845a1de6b365146b562": {
          "model_module": "@jupyter-widgets/controls",
          "model_name": "HBoxModel",
          "model_module_version": "1.5.0",
          "state": {
            "_dom_classes": [],
            "_model_module": "@jupyter-widgets/controls",
            "_model_module_version": "1.5.0",
            "_model_name": "HBoxModel",
            "_view_count": null,
            "_view_module": "@jupyter-widgets/controls",
            "_view_module_version": "1.5.0",
            "_view_name": "HBoxView",
            "box_style": "",
            "children": [
              "IPY_MODEL_b285617e81bc4f9783046034cc706f40",
              "IPY_MODEL_69594af35d264d2e8b0a47aa64b8d7d3",
              "IPY_MODEL_23343acde3a04a1db4ce8e2438c427c1"
            ],
            "layout": "IPY_MODEL_2e37a8e252a04e74b888bf5fd7f21e69"
          }
        },
        "b285617e81bc4f9783046034cc706f40": {
          "model_module": "@jupyter-widgets/controls",
          "model_name": "HTMLModel",
          "model_module_version": "1.5.0",
          "state": {
            "_dom_classes": [],
            "_model_module": "@jupyter-widgets/controls",
            "_model_module_version": "1.5.0",
            "_model_name": "HTMLModel",
            "_view_count": null,
            "_view_module": "@jupyter-widgets/controls",
            "_view_module_version": "1.5.0",
            "_view_name": "HTMLView",
            "description": "",
            "description_tooltip": null,
            "layout": "IPY_MODEL_de7d2a67fa9f4c3eb9841857efa9dc52",
            "placeholder": "​",
            "style": "IPY_MODEL_c24f7813fa694affbd1acf822611b134",
            "value": "Downloading: 100%"
          }
        },
        "69594af35d264d2e8b0a47aa64b8d7d3": {
          "model_module": "@jupyter-widgets/controls",
          "model_name": "FloatProgressModel",
          "model_module_version": "1.5.0",
          "state": {
            "_dom_classes": [],
            "_model_module": "@jupyter-widgets/controls",
            "_model_module_version": "1.5.0",
            "_model_name": "FloatProgressModel",
            "_view_count": null,
            "_view_module": "@jupyter-widgets/controls",
            "_view_module_version": "1.5.0",
            "_view_name": "ProgressView",
            "bar_style": "success",
            "description": "",
            "description_tooltip": null,
            "layout": "IPY_MODEL_941dc00422a640a1b61d2f228050456a",
            "max": 24,
            "min": 0,
            "orientation": "horizontal",
            "style": "IPY_MODEL_fa1d74ff4e544f4bbdf63a9e4241208a",
            "value": 24
          }
        },
        "23343acde3a04a1db4ce8e2438c427c1": {
          "model_module": "@jupyter-widgets/controls",
          "model_name": "HTMLModel",
          "model_module_version": "1.5.0",
          "state": {
            "_dom_classes": [],
            "_model_module": "@jupyter-widgets/controls",
            "_model_module_version": "1.5.0",
            "_model_name": "HTMLModel",
            "_view_count": null,
            "_view_module": "@jupyter-widgets/controls",
            "_view_module_version": "1.5.0",
            "_view_name": "HTMLView",
            "description": "",
            "description_tooltip": null,
            "layout": "IPY_MODEL_1e91f27fdc14462bb967d0100225969f",
            "placeholder": "​",
            "style": "IPY_MODEL_77b7053ce9014ebeb60f7a426a4677bc",
            "value": " 24.0/24.0 [00:00&lt;00:00, 901B/s]"
          }
        },
        "2e37a8e252a04e74b888bf5fd7f21e69": {
          "model_module": "@jupyter-widgets/base",
          "model_name": "LayoutModel",
          "model_module_version": "1.2.0",
          "state": {
            "_model_module": "@jupyter-widgets/base",
            "_model_module_version": "1.2.0",
            "_model_name": "LayoutModel",
            "_view_count": null,
            "_view_module": "@jupyter-widgets/base",
            "_view_module_version": "1.2.0",
            "_view_name": "LayoutView",
            "align_content": null,
            "align_items": null,
            "align_self": null,
            "border": null,
            "bottom": null,
            "display": null,
            "flex": null,
            "flex_flow": null,
            "grid_area": null,
            "grid_auto_columns": null,
            "grid_auto_flow": null,
            "grid_auto_rows": null,
            "grid_column": null,
            "grid_gap": null,
            "grid_row": null,
            "grid_template_areas": null,
            "grid_template_columns": null,
            "grid_template_rows": null,
            "height": null,
            "justify_content": null,
            "justify_items": null,
            "left": null,
            "margin": null,
            "max_height": null,
            "max_width": null,
            "min_height": null,
            "min_width": null,
            "object_fit": null,
            "object_position": null,
            "order": null,
            "overflow": null,
            "overflow_x": null,
            "overflow_y": null,
            "padding": null,
            "right": null,
            "top": null,
            "visibility": null,
            "width": null
          }
        },
        "de7d2a67fa9f4c3eb9841857efa9dc52": {
          "model_module": "@jupyter-widgets/base",
          "model_name": "LayoutModel",
          "model_module_version": "1.2.0",
          "state": {
            "_model_module": "@jupyter-widgets/base",
            "_model_module_version": "1.2.0",
            "_model_name": "LayoutModel",
            "_view_count": null,
            "_view_module": "@jupyter-widgets/base",
            "_view_module_version": "1.2.0",
            "_view_name": "LayoutView",
            "align_content": null,
            "align_items": null,
            "align_self": null,
            "border": null,
            "bottom": null,
            "display": null,
            "flex": null,
            "flex_flow": null,
            "grid_area": null,
            "grid_auto_columns": null,
            "grid_auto_flow": null,
            "grid_auto_rows": null,
            "grid_column": null,
            "grid_gap": null,
            "grid_row": null,
            "grid_template_areas": null,
            "grid_template_columns": null,
            "grid_template_rows": null,
            "height": null,
            "justify_content": null,
            "justify_items": null,
            "left": null,
            "margin": null,
            "max_height": null,
            "max_width": null,
            "min_height": null,
            "min_width": null,
            "object_fit": null,
            "object_position": null,
            "order": null,
            "overflow": null,
            "overflow_x": null,
            "overflow_y": null,
            "padding": null,
            "right": null,
            "top": null,
            "visibility": null,
            "width": null
          }
        },
        "c24f7813fa694affbd1acf822611b134": {
          "model_module": "@jupyter-widgets/controls",
          "model_name": "DescriptionStyleModel",
          "model_module_version": "1.5.0",
          "state": {
            "_model_module": "@jupyter-widgets/controls",
            "_model_module_version": "1.5.0",
            "_model_name": "DescriptionStyleModel",
            "_view_count": null,
            "_view_module": "@jupyter-widgets/base",
            "_view_module_version": "1.2.0",
            "_view_name": "StyleView",
            "description_width": ""
          }
        },
        "941dc00422a640a1b61d2f228050456a": {
          "model_module": "@jupyter-widgets/base",
          "model_name": "LayoutModel",
          "model_module_version": "1.2.0",
          "state": {
            "_model_module": "@jupyter-widgets/base",
            "_model_module_version": "1.2.0",
            "_model_name": "LayoutModel",
            "_view_count": null,
            "_view_module": "@jupyter-widgets/base",
            "_view_module_version": "1.2.0",
            "_view_name": "LayoutView",
            "align_content": null,
            "align_items": null,
            "align_self": null,
            "border": null,
            "bottom": null,
            "display": null,
            "flex": null,
            "flex_flow": null,
            "grid_area": null,
            "grid_auto_columns": null,
            "grid_auto_flow": null,
            "grid_auto_rows": null,
            "grid_column": null,
            "grid_gap": null,
            "grid_row": null,
            "grid_template_areas": null,
            "grid_template_columns": null,
            "grid_template_rows": null,
            "height": null,
            "justify_content": null,
            "justify_items": null,
            "left": null,
            "margin": null,
            "max_height": null,
            "max_width": null,
            "min_height": null,
            "min_width": null,
            "object_fit": null,
            "object_position": null,
            "order": null,
            "overflow": null,
            "overflow_x": null,
            "overflow_y": null,
            "padding": null,
            "right": null,
            "top": null,
            "visibility": null,
            "width": null
          }
        },
        "fa1d74ff4e544f4bbdf63a9e4241208a": {
          "model_module": "@jupyter-widgets/controls",
          "model_name": "ProgressStyleModel",
          "model_module_version": "1.5.0",
          "state": {
            "_model_module": "@jupyter-widgets/controls",
            "_model_module_version": "1.5.0",
            "_model_name": "ProgressStyleModel",
            "_view_count": null,
            "_view_module": "@jupyter-widgets/base",
            "_view_module_version": "1.2.0",
            "_view_name": "StyleView",
            "bar_color": null,
            "description_width": ""
          }
        },
        "1e91f27fdc14462bb967d0100225969f": {
          "model_module": "@jupyter-widgets/base",
          "model_name": "LayoutModel",
          "model_module_version": "1.2.0",
          "state": {
            "_model_module": "@jupyter-widgets/base",
            "_model_module_version": "1.2.0",
            "_model_name": "LayoutModel",
            "_view_count": null,
            "_view_module": "@jupyter-widgets/base",
            "_view_module_version": "1.2.0",
            "_view_name": "LayoutView",
            "align_content": null,
            "align_items": null,
            "align_self": null,
            "border": null,
            "bottom": null,
            "display": null,
            "flex": null,
            "flex_flow": null,
            "grid_area": null,
            "grid_auto_columns": null,
            "grid_auto_flow": null,
            "grid_auto_rows": null,
            "grid_column": null,
            "grid_gap": null,
            "grid_row": null,
            "grid_template_areas": null,
            "grid_template_columns": null,
            "grid_template_rows": null,
            "height": null,
            "justify_content": null,
            "justify_items": null,
            "left": null,
            "margin": null,
            "max_height": null,
            "max_width": null,
            "min_height": null,
            "min_width": null,
            "object_fit": null,
            "object_position": null,
            "order": null,
            "overflow": null,
            "overflow_x": null,
            "overflow_y": null,
            "padding": null,
            "right": null,
            "top": null,
            "visibility": null,
            "width": null
          }
        },
        "77b7053ce9014ebeb60f7a426a4677bc": {
          "model_module": "@jupyter-widgets/controls",
          "model_name": "DescriptionStyleModel",
          "model_module_version": "1.5.0",
          "state": {
            "_model_module": "@jupyter-widgets/controls",
            "_model_module_version": "1.5.0",
            "_model_name": "DescriptionStyleModel",
            "_view_count": null,
            "_view_module": "@jupyter-widgets/base",
            "_view_module_version": "1.2.0",
            "_view_name": "StyleView",
            "description_width": ""
          }
        },
        "1891451e988e40afa15fa88b31101b56": {
          "model_module": "@jupyter-widgets/controls",
          "model_name": "HBoxModel",
          "model_module_version": "1.5.0",
          "state": {
            "_dom_classes": [],
            "_model_module": "@jupyter-widgets/controls",
            "_model_module_version": "1.5.0",
            "_model_name": "HBoxModel",
            "_view_count": null,
            "_view_module": "@jupyter-widgets/controls",
            "_view_module_version": "1.5.0",
            "_view_name": "HBoxView",
            "box_style": "",
            "children": [
              "IPY_MODEL_0994d58696a04ae09e1439862ba62a94",
              "IPY_MODEL_5104c0a5d29d4c1abb8755fd6c2c9ca0",
              "IPY_MODEL_2d4732ba2bb44b5393a6074461539873"
            ],
            "layout": "IPY_MODEL_2c2c1ab45a734799b520631fcd899046"
          }
        },
        "0994d58696a04ae09e1439862ba62a94": {
          "model_module": "@jupyter-widgets/controls",
          "model_name": "HTMLModel",
          "model_module_version": "1.5.0",
          "state": {
            "_dom_classes": [],
            "_model_module": "@jupyter-widgets/controls",
            "_model_module_version": "1.5.0",
            "_model_name": "HTMLModel",
            "_view_count": null,
            "_view_module": "@jupyter-widgets/controls",
            "_view_module_version": "1.5.0",
            "_view_name": "HTMLView",
            "description": "",
            "description_tooltip": null,
            "layout": "IPY_MODEL_b4c0ac75e72a44be8d5d95adb6c19219",
            "placeholder": "​",
            "style": "IPY_MODEL_504e0f2e4bf04c0bb59e94f3a51c2a8d",
            "value": "Downloading: 100%"
          }
        },
        "5104c0a5d29d4c1abb8755fd6c2c9ca0": {
          "model_module": "@jupyter-widgets/controls",
          "model_name": "FloatProgressModel",
          "model_module_version": "1.5.0",
          "state": {
            "_dom_classes": [],
            "_model_module": "@jupyter-widgets/controls",
            "_model_module_version": "1.5.0",
            "_model_name": "FloatProgressModel",
            "_view_count": null,
            "_view_module": "@jupyter-widgets/controls",
            "_view_module_version": "1.5.0",
            "_view_name": "ProgressView",
            "bar_style": "success",
            "description": "",
            "description_tooltip": null,
            "layout": "IPY_MODEL_78ee3ba32eac4051acbae30bbb5aa8af",
            "max": 534,
            "min": 0,
            "orientation": "horizontal",
            "style": "IPY_MODEL_d7542dfdc0cd4995963653f920a1bd43",
            "value": 534
          }
        },
        "2d4732ba2bb44b5393a6074461539873": {
          "model_module": "@jupyter-widgets/controls",
          "model_name": "HTMLModel",
          "model_module_version": "1.5.0",
          "state": {
            "_dom_classes": [],
            "_model_module": "@jupyter-widgets/controls",
            "_model_module_version": "1.5.0",
            "_model_name": "HTMLModel",
            "_view_count": null,
            "_view_module": "@jupyter-widgets/controls",
            "_view_module_version": "1.5.0",
            "_view_name": "HTMLView",
            "description": "",
            "description_tooltip": null,
            "layout": "IPY_MODEL_955144489bcd466b9a134b0d929caf8d",
            "placeholder": "​",
            "style": "IPY_MODEL_0409e6c9561e4243a189d44a500d588c",
            "value": " 534/534 [00:00&lt;00:00, 23.1kB/s]"
          }
        },
        "2c2c1ab45a734799b520631fcd899046": {
          "model_module": "@jupyter-widgets/base",
          "model_name": "LayoutModel",
          "model_module_version": "1.2.0",
          "state": {
            "_model_module": "@jupyter-widgets/base",
            "_model_module_version": "1.2.0",
            "_model_name": "LayoutModel",
            "_view_count": null,
            "_view_module": "@jupyter-widgets/base",
            "_view_module_version": "1.2.0",
            "_view_name": "LayoutView",
            "align_content": null,
            "align_items": null,
            "align_self": null,
            "border": null,
            "bottom": null,
            "display": null,
            "flex": null,
            "flex_flow": null,
            "grid_area": null,
            "grid_auto_columns": null,
            "grid_auto_flow": null,
            "grid_auto_rows": null,
            "grid_column": null,
            "grid_gap": null,
            "grid_row": null,
            "grid_template_areas": null,
            "grid_template_columns": null,
            "grid_template_rows": null,
            "height": null,
            "justify_content": null,
            "justify_items": null,
            "left": null,
            "margin": null,
            "max_height": null,
            "max_width": null,
            "min_height": null,
            "min_width": null,
            "object_fit": null,
            "object_position": null,
            "order": null,
            "overflow": null,
            "overflow_x": null,
            "overflow_y": null,
            "padding": null,
            "right": null,
            "top": null,
            "visibility": null,
            "width": null
          }
        },
        "b4c0ac75e72a44be8d5d95adb6c19219": {
          "model_module": "@jupyter-widgets/base",
          "model_name": "LayoutModel",
          "model_module_version": "1.2.0",
          "state": {
            "_model_module": "@jupyter-widgets/base",
            "_model_module_version": "1.2.0",
            "_model_name": "LayoutModel",
            "_view_count": null,
            "_view_module": "@jupyter-widgets/base",
            "_view_module_version": "1.2.0",
            "_view_name": "LayoutView",
            "align_content": null,
            "align_items": null,
            "align_self": null,
            "border": null,
            "bottom": null,
            "display": null,
            "flex": null,
            "flex_flow": null,
            "grid_area": null,
            "grid_auto_columns": null,
            "grid_auto_flow": null,
            "grid_auto_rows": null,
            "grid_column": null,
            "grid_gap": null,
            "grid_row": null,
            "grid_template_areas": null,
            "grid_template_columns": null,
            "grid_template_rows": null,
            "height": null,
            "justify_content": null,
            "justify_items": null,
            "left": null,
            "margin": null,
            "max_height": null,
            "max_width": null,
            "min_height": null,
            "min_width": null,
            "object_fit": null,
            "object_position": null,
            "order": null,
            "overflow": null,
            "overflow_x": null,
            "overflow_y": null,
            "padding": null,
            "right": null,
            "top": null,
            "visibility": null,
            "width": null
          }
        },
        "504e0f2e4bf04c0bb59e94f3a51c2a8d": {
          "model_module": "@jupyter-widgets/controls",
          "model_name": "DescriptionStyleModel",
          "model_module_version": "1.5.0",
          "state": {
            "_model_module": "@jupyter-widgets/controls",
            "_model_module_version": "1.5.0",
            "_model_name": "DescriptionStyleModel",
            "_view_count": null,
            "_view_module": "@jupyter-widgets/base",
            "_view_module_version": "1.2.0",
            "_view_name": "StyleView",
            "description_width": ""
          }
        },
        "78ee3ba32eac4051acbae30bbb5aa8af": {
          "model_module": "@jupyter-widgets/base",
          "model_name": "LayoutModel",
          "model_module_version": "1.2.0",
          "state": {
            "_model_module": "@jupyter-widgets/base",
            "_model_module_version": "1.2.0",
            "_model_name": "LayoutModel",
            "_view_count": null,
            "_view_module": "@jupyter-widgets/base",
            "_view_module_version": "1.2.0",
            "_view_name": "LayoutView",
            "align_content": null,
            "align_items": null,
            "align_self": null,
            "border": null,
            "bottom": null,
            "display": null,
            "flex": null,
            "flex_flow": null,
            "grid_area": null,
            "grid_auto_columns": null,
            "grid_auto_flow": null,
            "grid_auto_rows": null,
            "grid_column": null,
            "grid_gap": null,
            "grid_row": null,
            "grid_template_areas": null,
            "grid_template_columns": null,
            "grid_template_rows": null,
            "height": null,
            "justify_content": null,
            "justify_items": null,
            "left": null,
            "margin": null,
            "max_height": null,
            "max_width": null,
            "min_height": null,
            "min_width": null,
            "object_fit": null,
            "object_position": null,
            "order": null,
            "overflow": null,
            "overflow_x": null,
            "overflow_y": null,
            "padding": null,
            "right": null,
            "top": null,
            "visibility": null,
            "width": null
          }
        },
        "d7542dfdc0cd4995963653f920a1bd43": {
          "model_module": "@jupyter-widgets/controls",
          "model_name": "ProgressStyleModel",
          "model_module_version": "1.5.0",
          "state": {
            "_model_module": "@jupyter-widgets/controls",
            "_model_module_version": "1.5.0",
            "_model_name": "ProgressStyleModel",
            "_view_count": null,
            "_view_module": "@jupyter-widgets/base",
            "_view_module_version": "1.2.0",
            "_view_name": "StyleView",
            "bar_color": null,
            "description_width": ""
          }
        },
        "955144489bcd466b9a134b0d929caf8d": {
          "model_module": "@jupyter-widgets/base",
          "model_name": "LayoutModel",
          "model_module_version": "1.2.0",
          "state": {
            "_model_module": "@jupyter-widgets/base",
            "_model_module_version": "1.2.0",
            "_model_name": "LayoutModel",
            "_view_count": null,
            "_view_module": "@jupyter-widgets/base",
            "_view_module_version": "1.2.0",
            "_view_name": "LayoutView",
            "align_content": null,
            "align_items": null,
            "align_self": null,
            "border": null,
            "bottom": null,
            "display": null,
            "flex": null,
            "flex_flow": null,
            "grid_area": null,
            "grid_auto_columns": null,
            "grid_auto_flow": null,
            "grid_auto_rows": null,
            "grid_column": null,
            "grid_gap": null,
            "grid_row": null,
            "grid_template_areas": null,
            "grid_template_columns": null,
            "grid_template_rows": null,
            "height": null,
            "justify_content": null,
            "justify_items": null,
            "left": null,
            "margin": null,
            "max_height": null,
            "max_width": null,
            "min_height": null,
            "min_width": null,
            "object_fit": null,
            "object_position": null,
            "order": null,
            "overflow": null,
            "overflow_x": null,
            "overflow_y": null,
            "padding": null,
            "right": null,
            "top": null,
            "visibility": null,
            "width": null
          }
        },
        "0409e6c9561e4243a189d44a500d588c": {
          "model_module": "@jupyter-widgets/controls",
          "model_name": "DescriptionStyleModel",
          "model_module_version": "1.5.0",
          "state": {
            "_model_module": "@jupyter-widgets/controls",
            "_model_module_version": "1.5.0",
            "_model_name": "DescriptionStyleModel",
            "_view_count": null,
            "_view_module": "@jupyter-widgets/base",
            "_view_module_version": "1.2.0",
            "_view_name": "StyleView",
            "description_width": ""
          }
        },
        "acd9ddfbecfc431ba0c655bc83a7960f": {
          "model_module": "@jupyter-widgets/controls",
          "model_name": "HBoxModel",
          "model_module_version": "1.5.0",
          "state": {
            "_dom_classes": [],
            "_model_module": "@jupyter-widgets/controls",
            "_model_module_version": "1.5.0",
            "_model_name": "HBoxModel",
            "_view_count": null,
            "_view_module": "@jupyter-widgets/controls",
            "_view_module_version": "1.5.0",
            "_view_name": "HBoxView",
            "box_style": "",
            "children": [
              "IPY_MODEL_b8489ee12d6c4df09d2212ff4fb0ea1a",
              "IPY_MODEL_8fde49282fc9494d995f9f2bfd2bd7e5",
              "IPY_MODEL_27b3d7bab7c64a278ad68364de6d72f0"
            ],
            "layout": "IPY_MODEL_4711fe19251f4310a29bfc6a65dcf2d4"
          }
        },
        "b8489ee12d6c4df09d2212ff4fb0ea1a": {
          "model_module": "@jupyter-widgets/controls",
          "model_name": "HTMLModel",
          "model_module_version": "1.5.0",
          "state": {
            "_dom_classes": [],
            "_model_module": "@jupyter-widgets/controls",
            "_model_module_version": "1.5.0",
            "_model_name": "HTMLModel",
            "_view_count": null,
            "_view_module": "@jupyter-widgets/controls",
            "_view_module_version": "1.5.0",
            "_view_name": "HTMLView",
            "description": "",
            "description_tooltip": null,
            "layout": "IPY_MODEL_383f2162206f41f4898f07b11c4ec1de",
            "placeholder": "​",
            "style": "IPY_MODEL_db20ad65aac64544b009c94080688aa0",
            "value": "Downloading: 100%"
          }
        },
        "8fde49282fc9494d995f9f2bfd2bd7e5": {
          "model_module": "@jupyter-widgets/controls",
          "model_name": "FloatProgressModel",
          "model_module_version": "1.5.0",
          "state": {
            "_dom_classes": [],
            "_model_module": "@jupyter-widgets/controls",
            "_model_module_version": "1.5.0",
            "_model_name": "FloatProgressModel",
            "_view_count": null,
            "_view_module": "@jupyter-widgets/controls",
            "_view_module_version": "1.5.0",
            "_view_name": "ProgressView",
            "bar_style": "success",
            "description": "",
            "description_tooltip": null,
            "layout": "IPY_MODEL_2f830af14be84ab6899c9b1d91add400",
            "max": 397396,
            "min": 0,
            "orientation": "horizontal",
            "style": "IPY_MODEL_33de1e6caab74514b79ff6fea69faef6",
            "value": 397396
          }
        },
        "27b3d7bab7c64a278ad68364de6d72f0": {
          "model_module": "@jupyter-widgets/controls",
          "model_name": "HTMLModel",
          "model_module_version": "1.5.0",
          "state": {
            "_dom_classes": [],
            "_model_module": "@jupyter-widgets/controls",
            "_model_module_version": "1.5.0",
            "_model_name": "HTMLModel",
            "_view_count": null,
            "_view_module": "@jupyter-widgets/controls",
            "_view_module_version": "1.5.0",
            "_view_name": "HTMLView",
            "description": "",
            "description_tooltip": null,
            "layout": "IPY_MODEL_e34f1a1c61b74d84ac37b876bae005b7",
            "placeholder": "​",
            "style": "IPY_MODEL_ceed82f7a2104769b7068a93984e8dcd",
            "value": " 397k/397k [00:00&lt;00:00, 566kB/s]"
          }
        },
        "4711fe19251f4310a29bfc6a65dcf2d4": {
          "model_module": "@jupyter-widgets/base",
          "model_name": "LayoutModel",
          "model_module_version": "1.2.0",
          "state": {
            "_model_module": "@jupyter-widgets/base",
            "_model_module_version": "1.2.0",
            "_model_name": "LayoutModel",
            "_view_count": null,
            "_view_module": "@jupyter-widgets/base",
            "_view_module_version": "1.2.0",
            "_view_name": "LayoutView",
            "align_content": null,
            "align_items": null,
            "align_self": null,
            "border": null,
            "bottom": null,
            "display": null,
            "flex": null,
            "flex_flow": null,
            "grid_area": null,
            "grid_auto_columns": null,
            "grid_auto_flow": null,
            "grid_auto_rows": null,
            "grid_column": null,
            "grid_gap": null,
            "grid_row": null,
            "grid_template_areas": null,
            "grid_template_columns": null,
            "grid_template_rows": null,
            "height": null,
            "justify_content": null,
            "justify_items": null,
            "left": null,
            "margin": null,
            "max_height": null,
            "max_width": null,
            "min_height": null,
            "min_width": null,
            "object_fit": null,
            "object_position": null,
            "order": null,
            "overflow": null,
            "overflow_x": null,
            "overflow_y": null,
            "padding": null,
            "right": null,
            "top": null,
            "visibility": null,
            "width": null
          }
        },
        "383f2162206f41f4898f07b11c4ec1de": {
          "model_module": "@jupyter-widgets/base",
          "model_name": "LayoutModel",
          "model_module_version": "1.2.0",
          "state": {
            "_model_module": "@jupyter-widgets/base",
            "_model_module_version": "1.2.0",
            "_model_name": "LayoutModel",
            "_view_count": null,
            "_view_module": "@jupyter-widgets/base",
            "_view_module_version": "1.2.0",
            "_view_name": "LayoutView",
            "align_content": null,
            "align_items": null,
            "align_self": null,
            "border": null,
            "bottom": null,
            "display": null,
            "flex": null,
            "flex_flow": null,
            "grid_area": null,
            "grid_auto_columns": null,
            "grid_auto_flow": null,
            "grid_auto_rows": null,
            "grid_column": null,
            "grid_gap": null,
            "grid_row": null,
            "grid_template_areas": null,
            "grid_template_columns": null,
            "grid_template_rows": null,
            "height": null,
            "justify_content": null,
            "justify_items": null,
            "left": null,
            "margin": null,
            "max_height": null,
            "max_width": null,
            "min_height": null,
            "min_width": null,
            "object_fit": null,
            "object_position": null,
            "order": null,
            "overflow": null,
            "overflow_x": null,
            "overflow_y": null,
            "padding": null,
            "right": null,
            "top": null,
            "visibility": null,
            "width": null
          }
        },
        "db20ad65aac64544b009c94080688aa0": {
          "model_module": "@jupyter-widgets/controls",
          "model_name": "DescriptionStyleModel",
          "model_module_version": "1.5.0",
          "state": {
            "_model_module": "@jupyter-widgets/controls",
            "_model_module_version": "1.5.0",
            "_model_name": "DescriptionStyleModel",
            "_view_count": null,
            "_view_module": "@jupyter-widgets/base",
            "_view_module_version": "1.2.0",
            "_view_name": "StyleView",
            "description_width": ""
          }
        },
        "2f830af14be84ab6899c9b1d91add400": {
          "model_module": "@jupyter-widgets/base",
          "model_name": "LayoutModel",
          "model_module_version": "1.2.0",
          "state": {
            "_model_module": "@jupyter-widgets/base",
            "_model_module_version": "1.2.0",
            "_model_name": "LayoutModel",
            "_view_count": null,
            "_view_module": "@jupyter-widgets/base",
            "_view_module_version": "1.2.0",
            "_view_name": "LayoutView",
            "align_content": null,
            "align_items": null,
            "align_self": null,
            "border": null,
            "bottom": null,
            "display": null,
            "flex": null,
            "flex_flow": null,
            "grid_area": null,
            "grid_auto_columns": null,
            "grid_auto_flow": null,
            "grid_auto_rows": null,
            "grid_column": null,
            "grid_gap": null,
            "grid_row": null,
            "grid_template_areas": null,
            "grid_template_columns": null,
            "grid_template_rows": null,
            "height": null,
            "justify_content": null,
            "justify_items": null,
            "left": null,
            "margin": null,
            "max_height": null,
            "max_width": null,
            "min_height": null,
            "min_width": null,
            "object_fit": null,
            "object_position": null,
            "order": null,
            "overflow": null,
            "overflow_x": null,
            "overflow_y": null,
            "padding": null,
            "right": null,
            "top": null,
            "visibility": null,
            "width": null
          }
        },
        "33de1e6caab74514b79ff6fea69faef6": {
          "model_module": "@jupyter-widgets/controls",
          "model_name": "ProgressStyleModel",
          "model_module_version": "1.5.0",
          "state": {
            "_model_module": "@jupyter-widgets/controls",
            "_model_module_version": "1.5.0",
            "_model_name": "ProgressStyleModel",
            "_view_count": null,
            "_view_module": "@jupyter-widgets/base",
            "_view_module_version": "1.2.0",
            "_view_name": "StyleView",
            "bar_color": null,
            "description_width": ""
          }
        },
        "e34f1a1c61b74d84ac37b876bae005b7": {
          "model_module": "@jupyter-widgets/base",
          "model_name": "LayoutModel",
          "model_module_version": "1.2.0",
          "state": {
            "_model_module": "@jupyter-widgets/base",
            "_model_module_version": "1.2.0",
            "_model_name": "LayoutModel",
            "_view_count": null,
            "_view_module": "@jupyter-widgets/base",
            "_view_module_version": "1.2.0",
            "_view_name": "LayoutView",
            "align_content": null,
            "align_items": null,
            "align_self": null,
            "border": null,
            "bottom": null,
            "display": null,
            "flex": null,
            "flex_flow": null,
            "grid_area": null,
            "grid_auto_columns": null,
            "grid_auto_flow": null,
            "grid_auto_rows": null,
            "grid_column": null,
            "grid_gap": null,
            "grid_row": null,
            "grid_template_areas": null,
            "grid_template_columns": null,
            "grid_template_rows": null,
            "height": null,
            "justify_content": null,
            "justify_items": null,
            "left": null,
            "margin": null,
            "max_height": null,
            "max_width": null,
            "min_height": null,
            "min_width": null,
            "object_fit": null,
            "object_position": null,
            "order": null,
            "overflow": null,
            "overflow_x": null,
            "overflow_y": null,
            "padding": null,
            "right": null,
            "top": null,
            "visibility": null,
            "width": null
          }
        },
        "ceed82f7a2104769b7068a93984e8dcd": {
          "model_module": "@jupyter-widgets/controls",
          "model_name": "DescriptionStyleModel",
          "model_module_version": "1.5.0",
          "state": {
            "_model_module": "@jupyter-widgets/controls",
            "_model_module_version": "1.5.0",
            "_model_name": "DescriptionStyleModel",
            "_view_count": null,
            "_view_module": "@jupyter-widgets/base",
            "_view_module_version": "1.2.0",
            "_view_name": "StyleView",
            "description_width": ""
          }
        },
        "e45aac09d92a43aca42b19b350a3a167": {
          "model_module": "@jupyter-widgets/controls",
          "model_name": "HBoxModel",
          "model_module_version": "1.5.0",
          "state": {
            "_dom_classes": [],
            "_model_module": "@jupyter-widgets/controls",
            "_model_module_version": "1.5.0",
            "_model_name": "HBoxModel",
            "_view_count": null,
            "_view_module": "@jupyter-widgets/controls",
            "_view_module_version": "1.5.0",
            "_view_name": "HBoxView",
            "box_style": "",
            "children": [
              "IPY_MODEL_ac22bd614b594e609fe6319d0675a121",
              "IPY_MODEL_5b54c0d06fcf4da78531a65cacaf3f14",
              "IPY_MODEL_a599b4c626ef40f6b543f5a2a386686d"
            ],
            "layout": "IPY_MODEL_dc68db5c4f42494c9801b412c88ff3d4"
          }
        },
        "ac22bd614b594e609fe6319d0675a121": {
          "model_module": "@jupyter-widgets/controls",
          "model_name": "HTMLModel",
          "model_module_version": "1.5.0",
          "state": {
            "_dom_classes": [],
            "_model_module": "@jupyter-widgets/controls",
            "_model_module_version": "1.5.0",
            "_model_name": "HTMLModel",
            "_view_count": null,
            "_view_module": "@jupyter-widgets/controls",
            "_view_module_version": "1.5.0",
            "_view_name": "HTMLView",
            "description": "",
            "description_tooltip": null,
            "layout": "IPY_MODEL_df2a9eb487274d76b5b6ddfde21f646a",
            "placeholder": "​",
            "style": "IPY_MODEL_7920403006fb49a696441de8e3315266",
            "value": "Downloading: 100%"
          }
        },
        "5b54c0d06fcf4da78531a65cacaf3f14": {
          "model_module": "@jupyter-widgets/controls",
          "model_name": "FloatProgressModel",
          "model_module_version": "1.5.0",
          "state": {
            "_dom_classes": [],
            "_model_module": "@jupyter-widgets/controls",
            "_model_module_version": "1.5.0",
            "_model_name": "FloatProgressModel",
            "_view_count": null,
            "_view_module": "@jupyter-widgets/controls",
            "_view_module_version": "1.5.0",
            "_view_name": "ProgressView",
            "bar_style": "success",
            "description": "",
            "description_tooltip": null,
            "layout": "IPY_MODEL_d0d17668de444920b3510a5d4064ee46",
            "max": 327881919,
            "min": 0,
            "orientation": "horizontal",
            "style": "IPY_MODEL_7bfb7129e45b4cf3862e765e0ebb456b",
            "value": 327881919
          }
        },
        "a599b4c626ef40f6b543f5a2a386686d": {
          "model_module": "@jupyter-widgets/controls",
          "model_name": "HTMLModel",
          "model_module_version": "1.5.0",
          "state": {
            "_dom_classes": [],
            "_model_module": "@jupyter-widgets/controls",
            "_model_module_version": "1.5.0",
            "_model_name": "HTMLModel",
            "_view_count": null,
            "_view_module": "@jupyter-widgets/controls",
            "_view_module_version": "1.5.0",
            "_view_name": "HTMLView",
            "description": "",
            "description_tooltip": null,
            "layout": "IPY_MODEL_8157614825bc44b987d8639dc3dd0f1e",
            "placeholder": "​",
            "style": "IPY_MODEL_a3b73d22671a4fa48ba3dc1a4c00ca5a",
            "value": " 328M/328M [00:07&lt;00:00, 43.9MB/s]"
          }
        },
        "dc68db5c4f42494c9801b412c88ff3d4": {
          "model_module": "@jupyter-widgets/base",
          "model_name": "LayoutModel",
          "model_module_version": "1.2.0",
          "state": {
            "_model_module": "@jupyter-widgets/base",
            "_model_module_version": "1.2.0",
            "_model_name": "LayoutModel",
            "_view_count": null,
            "_view_module": "@jupyter-widgets/base",
            "_view_module_version": "1.2.0",
            "_view_name": "LayoutView",
            "align_content": null,
            "align_items": null,
            "align_self": null,
            "border": null,
            "bottom": null,
            "display": null,
            "flex": null,
            "flex_flow": null,
            "grid_area": null,
            "grid_auto_columns": null,
            "grid_auto_flow": null,
            "grid_auto_rows": null,
            "grid_column": null,
            "grid_gap": null,
            "grid_row": null,
            "grid_template_areas": null,
            "grid_template_columns": null,
            "grid_template_rows": null,
            "height": null,
            "justify_content": null,
            "justify_items": null,
            "left": null,
            "margin": null,
            "max_height": null,
            "max_width": null,
            "min_height": null,
            "min_width": null,
            "object_fit": null,
            "object_position": null,
            "order": null,
            "overflow": null,
            "overflow_x": null,
            "overflow_y": null,
            "padding": null,
            "right": null,
            "top": null,
            "visibility": null,
            "width": null
          }
        },
        "df2a9eb487274d76b5b6ddfde21f646a": {
          "model_module": "@jupyter-widgets/base",
          "model_name": "LayoutModel",
          "model_module_version": "1.2.0",
          "state": {
            "_model_module": "@jupyter-widgets/base",
            "_model_module_version": "1.2.0",
            "_model_name": "LayoutModel",
            "_view_count": null,
            "_view_module": "@jupyter-widgets/base",
            "_view_module_version": "1.2.0",
            "_view_name": "LayoutView",
            "align_content": null,
            "align_items": null,
            "align_self": null,
            "border": null,
            "bottom": null,
            "display": null,
            "flex": null,
            "flex_flow": null,
            "grid_area": null,
            "grid_auto_columns": null,
            "grid_auto_flow": null,
            "grid_auto_rows": null,
            "grid_column": null,
            "grid_gap": null,
            "grid_row": null,
            "grid_template_areas": null,
            "grid_template_columns": null,
            "grid_template_rows": null,
            "height": null,
            "justify_content": null,
            "justify_items": null,
            "left": null,
            "margin": null,
            "max_height": null,
            "max_width": null,
            "min_height": null,
            "min_width": null,
            "object_fit": null,
            "object_position": null,
            "order": null,
            "overflow": null,
            "overflow_x": null,
            "overflow_y": null,
            "padding": null,
            "right": null,
            "top": null,
            "visibility": null,
            "width": null
          }
        },
        "7920403006fb49a696441de8e3315266": {
          "model_module": "@jupyter-widgets/controls",
          "model_name": "DescriptionStyleModel",
          "model_module_version": "1.5.0",
          "state": {
            "_model_module": "@jupyter-widgets/controls",
            "_model_module_version": "1.5.0",
            "_model_name": "DescriptionStyleModel",
            "_view_count": null,
            "_view_module": "@jupyter-widgets/base",
            "_view_module_version": "1.2.0",
            "_view_name": "StyleView",
            "description_width": ""
          }
        },
        "d0d17668de444920b3510a5d4064ee46": {
          "model_module": "@jupyter-widgets/base",
          "model_name": "LayoutModel",
          "model_module_version": "1.2.0",
          "state": {
            "_model_module": "@jupyter-widgets/base",
            "_model_module_version": "1.2.0",
            "_model_name": "LayoutModel",
            "_view_count": null,
            "_view_module": "@jupyter-widgets/base",
            "_view_module_version": "1.2.0",
            "_view_name": "LayoutView",
            "align_content": null,
            "align_items": null,
            "align_self": null,
            "border": null,
            "bottom": null,
            "display": null,
            "flex": null,
            "flex_flow": null,
            "grid_area": null,
            "grid_auto_columns": null,
            "grid_auto_flow": null,
            "grid_auto_rows": null,
            "grid_column": null,
            "grid_gap": null,
            "grid_row": null,
            "grid_template_areas": null,
            "grid_template_columns": null,
            "grid_template_rows": null,
            "height": null,
            "justify_content": null,
            "justify_items": null,
            "left": null,
            "margin": null,
            "max_height": null,
            "max_width": null,
            "min_height": null,
            "min_width": null,
            "object_fit": null,
            "object_position": null,
            "order": null,
            "overflow": null,
            "overflow_x": null,
            "overflow_y": null,
            "padding": null,
            "right": null,
            "top": null,
            "visibility": null,
            "width": null
          }
        },
        "7bfb7129e45b4cf3862e765e0ebb456b": {
          "model_module": "@jupyter-widgets/controls",
          "model_name": "ProgressStyleModel",
          "model_module_version": "1.5.0",
          "state": {
            "_model_module": "@jupyter-widgets/controls",
            "_model_module_version": "1.5.0",
            "_model_name": "ProgressStyleModel",
            "_view_count": null,
            "_view_module": "@jupyter-widgets/base",
            "_view_module_version": "1.2.0",
            "_view_name": "StyleView",
            "bar_color": null,
            "description_width": ""
          }
        },
        "8157614825bc44b987d8639dc3dd0f1e": {
          "model_module": "@jupyter-widgets/base",
          "model_name": "LayoutModel",
          "model_module_version": "1.2.0",
          "state": {
            "_model_module": "@jupyter-widgets/base",
            "_model_module_version": "1.2.0",
            "_model_name": "LayoutModel",
            "_view_count": null,
            "_view_module": "@jupyter-widgets/base",
            "_view_module_version": "1.2.0",
            "_view_name": "LayoutView",
            "align_content": null,
            "align_items": null,
            "align_self": null,
            "border": null,
            "bottom": null,
            "display": null,
            "flex": null,
            "flex_flow": null,
            "grid_area": null,
            "grid_auto_columns": null,
            "grid_auto_flow": null,
            "grid_auto_rows": null,
            "grid_column": null,
            "grid_gap": null,
            "grid_row": null,
            "grid_template_areas": null,
            "grid_template_columns": null,
            "grid_template_rows": null,
            "height": null,
            "justify_content": null,
            "justify_items": null,
            "left": null,
            "margin": null,
            "max_height": null,
            "max_width": null,
            "min_height": null,
            "min_width": null,
            "object_fit": null,
            "object_position": null,
            "order": null,
            "overflow": null,
            "overflow_x": null,
            "overflow_y": null,
            "padding": null,
            "right": null,
            "top": null,
            "visibility": null,
            "width": null
          }
        },
        "a3b73d22671a4fa48ba3dc1a4c00ca5a": {
          "model_module": "@jupyter-widgets/controls",
          "model_name": "DescriptionStyleModel",
          "model_module_version": "1.5.0",
          "state": {
            "_model_module": "@jupyter-widgets/controls",
            "_model_module_version": "1.5.0",
            "_model_name": "DescriptionStyleModel",
            "_view_count": null,
            "_view_module": "@jupyter-widgets/base",
            "_view_module_version": "1.2.0",
            "_view_name": "StyleView",
            "description_width": ""
          }
        }
      }
    }
  },
  "cells": [
    {
      "cell_type": "code",
      "source": [
        "# !pip install wandb"
      ],
      "metadata": {
        "id": "vJEDMrQECiLK"
      },
      "execution_count": null,
      "outputs": []
    },
    {
      "cell_type": "code",
      "source": [
        "!pip install transformers"
      ],
      "metadata": {
        "colab": {
          "base_uri": "https://localhost:8080/"
        },
        "id": "UxCo-vcwilg2",
        "outputId": "991f2db5-1f4b-4393-be20-21299057df4f"
      },
      "execution_count": 2,
      "outputs": [
        {
          "output_type": "stream",
          "name": "stdout",
          "text": [
            "Looking in indexes: https://pypi.org/simple, https://us-python.pkg.dev/colab-wheels/public/simple/\n",
            "Collecting transformers\n",
            "  Downloading transformers-4.25.1-py3-none-any.whl (5.8 MB)\n",
            "\u001b[K     |████████████████████████████████| 5.8 MB 13.6 MB/s \n",
            "\u001b[?25hRequirement already satisfied: numpy>=1.17 in /usr/local/lib/python3.8/dist-packages (from transformers) (1.21.6)\n",
            "Requirement already satisfied: pyyaml>=5.1 in /usr/local/lib/python3.8/dist-packages (from transformers) (6.0)\n",
            "Requirement already satisfied: requests in /usr/local/lib/python3.8/dist-packages (from transformers) (2.23.0)\n",
            "Collecting tokenizers!=0.11.3,<0.14,>=0.11.1\n",
            "  Downloading tokenizers-0.13.2-cp38-cp38-manylinux_2_17_x86_64.manylinux2014_x86_64.whl (7.6 MB)\n",
            "\u001b[K     |████████████████████████████████| 7.6 MB 66.7 MB/s \n",
            "\u001b[?25hRequirement already satisfied: filelock in /usr/local/lib/python3.8/dist-packages (from transformers) (3.8.2)\n",
            "Requirement already satisfied: tqdm>=4.27 in /usr/local/lib/python3.8/dist-packages (from transformers) (4.64.1)\n",
            "Requirement already satisfied: regex!=2019.12.17 in /usr/local/lib/python3.8/dist-packages (from transformers) (2022.6.2)\n",
            "Requirement already satisfied: packaging>=20.0 in /usr/local/lib/python3.8/dist-packages (from transformers) (21.3)\n",
            "Collecting huggingface-hub<1.0,>=0.10.0\n",
            "  Downloading huggingface_hub-0.11.1-py3-none-any.whl (182 kB)\n",
            "\u001b[K     |████████████████████████████████| 182 kB 62.4 MB/s \n",
            "\u001b[?25hRequirement already satisfied: typing-extensions>=3.7.4.3 in /usr/local/lib/python3.8/dist-packages (from huggingface-hub<1.0,>=0.10.0->transformers) (4.4.0)\n",
            "Requirement already satisfied: pyparsing!=3.0.5,>=2.0.2 in /usr/local/lib/python3.8/dist-packages (from packaging>=20.0->transformers) (3.0.9)\n",
            "Requirement already satisfied: certifi>=2017.4.17 in /usr/local/lib/python3.8/dist-packages (from requests->transformers) (2022.12.7)\n",
            "Requirement already satisfied: urllib3!=1.25.0,!=1.25.1,<1.26,>=1.21.1 in /usr/local/lib/python3.8/dist-packages (from requests->transformers) (1.24.3)\n",
            "Requirement already satisfied: chardet<4,>=3.0.2 in /usr/local/lib/python3.8/dist-packages (from requests->transformers) (3.0.4)\n",
            "Requirement already satisfied: idna<3,>=2.5 in /usr/local/lib/python3.8/dist-packages (from requests->transformers) (2.10)\n",
            "Installing collected packages: tokenizers, huggingface-hub, transformers\n",
            "Successfully installed huggingface-hub-0.11.1 tokenizers-0.13.2 transformers-4.25.1\n"
          ]
        }
      ]
    },
    {
      "cell_type": "code",
      "source": [
        "# import pandas as pd\n",
        "\n",
        "# df = pd.read_excel(\"/content/final_dataset_clean_v2.xlsx\",skiprows=1)"
      ],
      "metadata": {
        "id": "GoVUshMGLzdE"
      },
      "execution_count": null,
      "outputs": []
    },
    {
      "cell_type": "code",
      "source": [
        "# df.answer = df.answer.apply(str)"
      ],
      "metadata": {
        "id": "4EgBcQeJWDvk"
      },
      "execution_count": 48,
      "outputs": []
    },
    {
      "cell_type": "code",
      "source": [
        "# import pandas as pd\n",
        "\n",
        "# def df_to_squad(df):\n",
        "#     # Initialize an empty list to store the documents\n",
        "#     documents = []\n",
        "\n",
        "#     # Group the dataframe by document\n",
        "#     for name, group in df.groupby(\"id\"):\n",
        "#         # Initialize a dictionary to store the document\n",
        "#         document = {\n",
        "#             \"id\": name,\n",
        "#             \"title\": group[\"title\"].iloc[0],\n",
        "#             \"paragraphs\": []\n",
        "#         }\n",
        "\n",
        "#         # Group the data by paragraph\n",
        "#         for _, paragraph_group in group.groupby(\"id\"):\n",
        "#             # Initialize a dictionary to store the paragraph\n",
        "#             paragraph = {\n",
        "#                 \"context\": paragraph_group[\"paragraph\"].iloc[0],\n",
        "#                 \"qas\": []\n",
        "#             }\n",
        "\n",
        "#             # Iterate over the questions and answers in the paragraph\n",
        "#             for _, row in paragraph_group.iterrows():\n",
        "#                 # Initialize a dictionary to store the question-answer pair\n",
        "#                 qa = {\n",
        "#                     \"id\": row[\"id\"],\n",
        "#                     \"question\": row[\"question\"],\n",
        "#                     \"answers\": [\n",
        "#                         {\n",
        "#                             \"text\": row[\"answer\"],\n",
        "#                             \"answer_start\": row[\"answer_start\"]\n",
        "#                         }\n",
        "#                     ]\n",
        "#                 }\n",
        "#                 # Add the question-answer pair to the paragraph\n",
        "#                 paragraph[\"qas\"].append(qa)\n",
        "\n",
        "#             # Add the paragraph to the document\n",
        "#             document[\"paragraphs\"].append(paragraph)\n",
        "\n",
        "#         # Add the document to the list of documents\n",
        "#         documents.append(document)\n",
        "\n",
        "#     return {\"data\":documents}"
      ],
      "metadata": {
        "id": "x7CwkHEDQduB"
      },
      "execution_count": 49,
      "outputs": []
    },
    {
      "cell_type": "code",
      "source": [
        "# data = df_to_squad(df)"
      ],
      "metadata": {
        "id": "wU5OB2_eV39K"
      },
      "execution_count": 50,
      "outputs": []
    },
    {
      "cell_type": "code",
      "source": [
        "# import json\n",
        "# with open(\"/content/data.json\", \"w\") as f:\n",
        "#     json.dump(data, f)"
      ],
      "metadata": {
        "id": "pkTBy471V1dE"
      },
      "execution_count": 51,
      "outputs": []
    },
    {
      "cell_type": "code",
      "source": [
        "# from sklearn.model_selection import train_test_split\n",
        "\n",
        "# # Split the data into training and testing sets\n",
        "# train_data, test_data = train_test_split(data['data'], test_size=0.2, shuffle=True)"
      ],
      "metadata": {
        "id": "7SdSwt_UT7Ut"
      },
      "execution_count": 52,
      "outputs": []
    },
    {
      "cell_type": "code",
      "source": [
        "# X_train_dec = {\"data\":train_data}\n",
        "# X_test_dec = {\"data\":test_data}"
      ],
      "metadata": {
        "id": "n35y62qZW3ux"
      },
      "execution_count": 53,
      "outputs": []
    },
    {
      "cell_type": "code",
      "source": [
        "# with open(\"/content/train_RODI.json\", \"w\") as f:\n",
        "#     json.dump(X_train_dec, f)\n",
        "\n",
        "# with open(\"/content/valid_RODI.json\", \"w\") as f:\n",
        "#     json.dump(X_test_dec, f)\n"
      ],
      "metadata": {
        "id": "mxt-KIOEUCtP"
      },
      "execution_count": 54,
      "outputs": []
    },
    {
      "cell_type": "code",
      "source": [
        "import wandb\n",
        "\n",
        "wandb.init(project=\"QA_comparison\", entity=\"omarmohamed88\")"
      ],
      "metadata": {
        "colab": {
          "base_uri": "https://localhost:8080/",
          "height": 194
        },
        "id": "kOCii8qsCmt-",
        "outputId": "3f605cf0-ca1e-4334-d62a-6b4c2bf23571"
      },
      "execution_count": 3,
      "outputs": [
        {
          "output_type": "stream",
          "name": "stderr",
          "text": [
            "ERROR:wandb.jupyter:Failed to detect the name of this notebook, you can set it manually with the WANDB_NOTEBOOK_NAME environment variable to enable code saving.\n"
          ]
        },
        {
          "output_type": "display_data",
          "data": {
            "text/plain": [
              "<IPython.core.display.Javascript object>"
            ],
            "application/javascript": [
              "\n",
              "        window._wandbApiKey = new Promise((resolve, reject) => {\n",
              "            function loadScript(url) {\n",
              "            return new Promise(function(resolve, reject) {\n",
              "                let newScript = document.createElement(\"script\");\n",
              "                newScript.onerror = reject;\n",
              "                newScript.onload = resolve;\n",
              "                document.body.appendChild(newScript);\n",
              "                newScript.src = url;\n",
              "            });\n",
              "            }\n",
              "            loadScript(\"https://cdn.jsdelivr.net/npm/postmate/build/postmate.min.js\").then(() => {\n",
              "            const iframe = document.createElement('iframe')\n",
              "            iframe.style.cssText = \"width:0;height:0;border:none\"\n",
              "            document.body.appendChild(iframe)\n",
              "            const handshake = new Postmate({\n",
              "                container: iframe,\n",
              "                url: 'https://wandb.ai/authorize'\n",
              "            });\n",
              "            const timeout = setTimeout(() => reject(\"Couldn't auto authenticate\"), 5000)\n",
              "            handshake.then(function(child) {\n",
              "                child.on('authorize', data => {\n",
              "                    clearTimeout(timeout)\n",
              "                    resolve(data)\n",
              "                });\n",
              "            });\n",
              "            })\n",
              "        });\n",
              "    "
            ]
          },
          "metadata": {}
        },
        {
          "output_type": "stream",
          "name": "stderr",
          "text": [
            "\u001b[34m\u001b[1mwandb\u001b[0m: Logging into wandb.ai. (Learn how to deploy a W&B server locally: https://wandb.me/wandb-server)\n",
            "\u001b[34m\u001b[1mwandb\u001b[0m: You can find your API key in your browser here: https://wandb.ai/authorize\n",
            "wandb: Paste an API key from your profile and hit enter, or press ctrl+c to quit: "
          ]
        },
        {
          "name": "stdout",
          "output_type": "stream",
          "text": [
            "··········\n"
          ]
        },
        {
          "output_type": "stream",
          "name": "stderr",
          "text": [
            "\u001b[34m\u001b[1mwandb\u001b[0m: Appending key for api.wandb.ai to your netrc file: /root/.netrc\n"
          ]
        },
        {
          "output_type": "display_data",
          "data": {
            "text/plain": [
              "<IPython.core.display.HTML object>"
            ],
            "text/html": [
              "Tracking run with wandb version 0.13.7"
            ]
          },
          "metadata": {}
        },
        {
          "output_type": "display_data",
          "data": {
            "text/plain": [
              "<IPython.core.display.HTML object>"
            ],
            "text/html": [
              "Run data is saved locally in <code>/content/wandb/run-20221223_140801-8hbjigco</code>"
            ]
          },
          "metadata": {}
        },
        {
          "output_type": "display_data",
          "data": {
            "text/plain": [
              "<IPython.core.display.HTML object>"
            ],
            "text/html": [
              "Syncing run <strong><a href=\"https://wandb.ai/omarmohamed88/QA_comparison/runs/8hbjigco\" target=\"_blank\">stoic-plasma-11</a></strong> to <a href=\"https://wandb.ai/omarmohamed88/QA_comparison\" target=\"_blank\">Weights & Biases</a> (<a href=\"https://wandb.me/run\" target=\"_blank\">docs</a>)<br/>"
            ]
          },
          "metadata": {}
        },
        {
          "output_type": "execute_result",
          "data": {
            "text/html": [
              "<button onClick=\"this.nextSibling.style.display='block';this.style.display='none';\">Display W&B run</button><iframe src=\"https://wandb.ai/omarmohamed88/QA_comparison/runs/8hbjigco?jupyter=true\" style=\"border:none;width:100%;height:420px;display:none;\"></iframe>"
            ],
            "text/plain": [
              "<wandb.sdk.wandb_run.Run at 0x7feafa5211f0>"
            ]
          },
          "metadata": {},
          "execution_count": 3
        }
      ]
    },
    {
      "cell_type": "code",
      "source": [
        "import json\n",
        "import numpy as np\n",
        "\n",
        "from transformers import (AutoTokenizer, \n",
        "  AutoModelForQuestionAnswering, \n",
        "  AdamW,\n",
        " get_linear_schedule_with_warmup,\n",
        " DistilBertTokenizerFast)\n",
        " \n",
        "\n",
        "import torch \n",
        "import torch.nn as nn\n",
        "from torch.utils.data import DataLoader\n",
        "\n",
        "from tqdm import tqdm"
      ],
      "metadata": {
        "id": "FFK9lZyeiGEa"
      },
      "execution_count": 4,
      "outputs": []
    },
    {
      "cell_type": "code",
      "source": [
        "\n",
        "# running the model on to the gpu if it is possibile for better performance\n",
        "\n",
        "if torch.cuda.is_available():\n",
        "  device = torch.device('cuda')\n",
        "  print('Running on gpu')\n",
        "else:\n",
        "    device = torch.device('cpu')\n",
        "    print('Running on cpu')"
      ],
      "metadata": {
        "colab": {
          "base_uri": "https://localhost:8080/"
        },
        "id": "pp7ZhrdViGBu",
        "outputId": "3a145158-a81e-4db4-a99a-26e3abb21902"
      },
      "execution_count": 5,
      "outputs": [
        {
          "output_type": "stream",
          "name": "stdout",
          "text": [
            "Running on gpu\n"
          ]
        }
      ]
    },
    {
      "cell_type": "code",
      "source": [
        "def read_squad(path):\n",
        "    # open JSON file and load intro dictionary\n",
        "    with open(path, 'rb') as f:\n",
        "        squad_dict = json.load(f)\n",
        "\n",
        "    # initialize lists for contexts, questions, and answers\n",
        "    contexts = []\n",
        "    questions = []\n",
        "    answers = []\n",
        "    # iterate through all data in squad data\n",
        "    for group in squad_dict['data']:\n",
        "        for passage in group['paragraphs']:\n",
        "            context = passage['context']\n",
        "            for qa in passage['qas']:\n",
        "                question = qa['question']\n",
        "                # check if we need to be extracting from 'answers' or 'plausible_answers'\n",
        "                if 'plausible_answers' in qa.keys():\n",
        "                    access = 'plausible_answers'\n",
        "                else:\n",
        "                    access = 'answers'\n",
        "                for answer in qa[access]:\n",
        "                    # append data to lists\n",
        "                    contexts.append(context)\n",
        "                    questions.append(question)\n",
        "                    answers.append(answer)\n",
        "    # return formatted data lists\n",
        "    return contexts, questions, answers\n",
        "\n",
        "\n",
        "def add_end_idx(answers, contexts):\n",
        "    for answer, context in zip(answers, contexts):\n",
        "        gold_text = answer['text']\n",
        "        start_idx = answer['answer_start']\n",
        "       \n",
        "        end_idx = start_idx + len(gold_text)\n",
        "\n",
        "        # sometimes squad answers are off by a character or two – fix this\n",
        "        if context[start_idx:end_idx] == gold_text:\n",
        "            answer['answer_end'] = end_idx\n",
        "        elif context[start_idx-1:end_idx-1] == gold_text:\n",
        "            answer['answer_start'] = start_idx - 1\n",
        "            answer['answer_end'] = end_idx - 1     # When the gold label is off by one character\n",
        "        elif context[start_idx-2:end_idx-2] == gold_text:\n",
        "            answer['answer_start'] = start_idx - 2\n",
        "            answer['answer_end'] = end_idx - 2     # When the gold label is off by two characters\n",
        "\n",
        "\n",
        "def add_token_positions(encodings, answers):\n",
        "    start_positions = []\n",
        "    end_positions = []\n",
        "    for i in range(len(answers)):\n",
        "        start_positions.append(encodings.char_to_token(i, answers[i]['answer_start']))\n",
        "        end_positions.append(encodings.char_to_token(i, answers[i]['answer_end'] - 1))\n",
        "\n",
        "        # if start position is None, the answer passage has been truncated\n",
        "        if start_positions[-1] is None:\n",
        "            start_positions[-1] = 511\n",
        "        if end_positions[-1] is None:\n",
        "            end_positions[-1] = 511\n",
        "\n",
        "    encodings.update({'start_positions': start_positions, 'end_positions': end_positions})"
      ],
      "metadata": {
        "id": "PPD1gNsziF-7"
      },
      "execution_count": 11,
      "outputs": []
    },
    {
      "cell_type": "code",
      "source": [
        "class SquadDataset(torch.utils.data.Dataset):\n",
        "    def __init__(self, encodings):\n",
        "        self.encodings = encodings\n",
        "\n",
        "    def __getitem__(self, idx):\n",
        "        return {key: val[idx] for key, val in self.encodings.items()}\n",
        "\n",
        "    def __len__(self):\n",
        "        return len(self.encodings.input_ids)\n",
        "\n",
        "\n",
        "def load_dataset(file, tokenizer, batch_size):\n",
        "    contexts, questions, answers = read_squad(file)\n",
        "    add_end_idx(answers, contexts)\n",
        "    encodings = tokenizer(contexts, questions, truncation=True, padding=True, max_length=512, return_tensors=\"pt\")\n",
        "    add_token_positions(encodings, answers)\n",
        "\n",
        "    dataset = SquadDataset(encodings)\n",
        "\n",
        "    loader = DataLoader(dataset, batch_size=batch_size, shuffle=True)\n",
        "\n",
        "    return loader\n",
        "\n",
        "\n",
        "def load_datasets(train_file, valid_file, test_file, tokenizer, batch_size):\n",
        "    train_loader = load_dataset(train_file, tokenizer, batch_size)\n",
        "    valid_loader = load_dataset(valid_file, tokenizer, 1)\n",
        "    test_loader = load_dataset(test_file, tokenizer, 1)\n",
        "    return train_loader ,valid_loader ,test_loader"
      ],
      "metadata": {
        "id": "yodOwTE3iF8X"
      },
      "execution_count": 12,
      "outputs": []
    },
    {
      "cell_type": "code",
      "source": [
        "tokenizer = AutoTokenizer.from_pretrained('racai/distilbert-multi-base-romanian-cased')\n",
        "\n",
        "model = AutoModelForQuestionAnswering.from_pretrained(\"racai/distilbert-multi-base-romanian-cased\")\n"
      ],
      "metadata": {
        "colab": {
          "base_uri": "https://localhost:8080/",
          "height": 252,
          "referenced_widgets": [
            "3ca9855d88e64845a1de6b365146b562",
            "b285617e81bc4f9783046034cc706f40",
            "69594af35d264d2e8b0a47aa64b8d7d3",
            "23343acde3a04a1db4ce8e2438c427c1",
            "2e37a8e252a04e74b888bf5fd7f21e69",
            "de7d2a67fa9f4c3eb9841857efa9dc52",
            "c24f7813fa694affbd1acf822611b134",
            "941dc00422a640a1b61d2f228050456a",
            "fa1d74ff4e544f4bbdf63a9e4241208a",
            "1e91f27fdc14462bb967d0100225969f",
            "77b7053ce9014ebeb60f7a426a4677bc",
            "1891451e988e40afa15fa88b31101b56",
            "0994d58696a04ae09e1439862ba62a94",
            "5104c0a5d29d4c1abb8755fd6c2c9ca0",
            "2d4732ba2bb44b5393a6074461539873",
            "2c2c1ab45a734799b520631fcd899046",
            "b4c0ac75e72a44be8d5d95adb6c19219",
            "504e0f2e4bf04c0bb59e94f3a51c2a8d",
            "78ee3ba32eac4051acbae30bbb5aa8af",
            "d7542dfdc0cd4995963653f920a1bd43",
            "955144489bcd466b9a134b0d929caf8d",
            "0409e6c9561e4243a189d44a500d588c",
            "acd9ddfbecfc431ba0c655bc83a7960f",
            "b8489ee12d6c4df09d2212ff4fb0ea1a",
            "8fde49282fc9494d995f9f2bfd2bd7e5",
            "27b3d7bab7c64a278ad68364de6d72f0",
            "4711fe19251f4310a29bfc6a65dcf2d4",
            "383f2162206f41f4898f07b11c4ec1de",
            "db20ad65aac64544b009c94080688aa0",
            "2f830af14be84ab6899c9b1d91add400",
            "33de1e6caab74514b79ff6fea69faef6",
            "e34f1a1c61b74d84ac37b876bae005b7",
            "ceed82f7a2104769b7068a93984e8dcd",
            "e45aac09d92a43aca42b19b350a3a167",
            "ac22bd614b594e609fe6319d0675a121",
            "5b54c0d06fcf4da78531a65cacaf3f14",
            "a599b4c626ef40f6b543f5a2a386686d",
            "dc68db5c4f42494c9801b412c88ff3d4",
            "df2a9eb487274d76b5b6ddfde21f646a",
            "7920403006fb49a696441de8e3315266",
            "d0d17668de444920b3510a5d4064ee46",
            "7bfb7129e45b4cf3862e765e0ebb456b",
            "8157614825bc44b987d8639dc3dd0f1e",
            "a3b73d22671a4fa48ba3dc1a4c00ca5a"
          ]
        },
        "id": "eVOh0F2eiF5R",
        "outputId": "0781fdf5-20d1-401b-90f5-0e59a7f3dc75"
      },
      "execution_count": 8,
      "outputs": [
        {
          "output_type": "display_data",
          "data": {
            "text/plain": [
              "Downloading:   0%|          | 0.00/24.0 [00:00<?, ?B/s]"
            ],
            "application/vnd.jupyter.widget-view+json": {
              "version_major": 2,
              "version_minor": 0,
              "model_id": "3ca9855d88e64845a1de6b365146b562"
            }
          },
          "metadata": {}
        },
        {
          "output_type": "display_data",
          "data": {
            "text/plain": [
              "Downloading:   0%|          | 0.00/534 [00:00<?, ?B/s]"
            ],
            "application/vnd.jupyter.widget-view+json": {
              "version_major": 2,
              "version_minor": 0,
              "model_id": "1891451e988e40afa15fa88b31101b56"
            }
          },
          "metadata": {}
        },
        {
          "output_type": "display_data",
          "data": {
            "text/plain": [
              "Downloading:   0%|          | 0.00/397k [00:00<?, ?B/s]"
            ],
            "application/vnd.jupyter.widget-view+json": {
              "version_major": 2,
              "version_minor": 0,
              "model_id": "acd9ddfbecfc431ba0c655bc83a7960f"
            }
          },
          "metadata": {}
        },
        {
          "output_type": "display_data",
          "data": {
            "text/plain": [
              "Downloading:   0%|          | 0.00/328M [00:00<?, ?B/s]"
            ],
            "application/vnd.jupyter.widget-view+json": {
              "version_major": 2,
              "version_minor": 0,
              "model_id": "e45aac09d92a43aca42b19b350a3a167"
            }
          },
          "metadata": {}
        },
        {
          "output_type": "stream",
          "name": "stderr",
          "text": [
            "Some weights of the model checkpoint at racai/distilbert-multi-base-romanian-cased were not used when initializing DistilBertForQuestionAnswering: ['vocab_projector.bias', 'vocab_projector.weight', 'vocab_transform.weight', 'vocab_transform.bias', 'vocab_layer_norm.bias', 'vocab_layer_norm.weight']\n",
            "- This IS expected if you are initializing DistilBertForQuestionAnswering from the checkpoint of a model trained on another task or with another architecture (e.g. initializing a BertForSequenceClassification model from a BertForPreTraining model).\n",
            "- This IS NOT expected if you are initializing DistilBertForQuestionAnswering from the checkpoint of a model that you expect to be exactly identical (initializing a BertForSequenceClassification model from a BertForSequenceClassification model).\n",
            "Some weights of DistilBertForQuestionAnswering were not initialized from the model checkpoint at racai/distilbert-multi-base-romanian-cased and are newly initialized: ['qa_outputs.weight', 'qa_outputs.bias']\n",
            "You should probably TRAIN this model on a down-stream task to be able to use it for predictions and inference.\n"
          ]
        }
      ]
    },
    {
      "cell_type": "code",
      "source": [
        "import re\n",
        "import string\n",
        "import torch\n",
        "\n",
        "\n",
        "def normalize_text(s):\n",
        "    def remove_articles(text):\n",
        "        regex = re.compile(r\"\\b(a|an|the)\\b\", re.UNICODE)\n",
        "        return re.sub(regex, \" \", text)\n",
        "\n",
        "    def white_space_fix(text):\n",
        "        return \" \".join(text.split())\n",
        "\n",
        "    def remove_punc(text):\n",
        "        exclude = set(string.punctuation)\n",
        "        return \"\".join(ch for ch in text if ch not in exclude)\n",
        "\n",
        "    def lower(text):\n",
        "        return text.lower()\n",
        "\n",
        "    return white_space_fix(remove_articles(remove_punc(lower(s))))\n",
        "\n",
        "\n",
        "def compute_exact_match(prediction, truth):\n",
        "    return int(normalize_text(prediction) == normalize_text(truth))\n",
        "\n",
        "\n",
        "def compute_f1(prediction, truth):\n",
        "    pred_tokens = normalize_text(prediction).split()\n",
        "    truth_tokens = normalize_text(truth).split()\n",
        "\n",
        "    # if either the prediction or the truth is no-answer then f1 = 1 if they agree, 0 otherwise\n",
        "    if len(pred_tokens) == 0 or len(truth_tokens) == 0:\n",
        "        return int(pred_tokens == truth_tokens)\n",
        "\n",
        "    common_tokens = set(pred_tokens) & set(truth_tokens)\n",
        "\n",
        "    # if there are no common tokens then f1 = 0\n",
        "    if len(common_tokens) == 0:\n",
        "        return 0\n",
        "\n",
        "    prec = len(common_tokens) / len(pred_tokens)\n",
        "    rec = len(common_tokens) / len(truth_tokens)\n",
        "\n",
        "    return 2 * (prec * rec) / (prec + rec)\n",
        "\n",
        "\n",
        "def get_gold_answers(example):\n",
        "    \"\"\"helper function that retrieves all possible true answers from a squad2.0 example\"\"\"\n",
        "\n",
        "    gold_answers = [answer[\"text\"] for answer in example.answers if answer[\"text\"]]\n",
        "\n",
        "    # if gold_answers doesn't exist it's because this is a negative example -\n",
        "    # the only correct answer is an empty string\n",
        "    if not gold_answers:\n",
        "        gold_answers = [\"\"]\n",
        "\n",
        "    return gold_answers\n",
        "\n",
        "\n",
        "def compute_scores(inputs, start_logits, end_logits, gold_start, gold_end, tokenizer):\n",
        "    answer_start = torch.argmax(start_logits)\n",
        "    answer_end = torch.argmax(end_logits) + 1\n",
        "\n",
        "    prediction = tokenizer.convert_tokens_to_string(tokenizer.convert_ids_to_tokens(inputs[0][answer_start:answer_end]))\n",
        "    gold_answer = tokenizer.convert_tokens_to_string(tokenizer.convert_ids_to_tokens(inputs[0][gold_start:gold_end + 1]))\n",
        "\n",
        "    # print(f\"Prediction: {prediction}\")\n",
        "    # print(f\"True Answers: {gold_answer}\")\n",
        "\n",
        "    em_score = compute_exact_match(prediction, gold_answer)\n",
        "    f1_score = compute_f1(prediction, gold_answer)\n",
        "\n",
        "    # print(f\"EM: {em_score} \\t F1: {f1_score}\")\n",
        "\n",
        "    return em_score, f1_score"
      ],
      "metadata": {
        "id": "Tlp19z7yiF1w"
      },
      "execution_count": 13,
      "outputs": []
    },
    {
      "cell_type": "code",
      "source": [
        "epochs = 25\n",
        "batch_size = 12\n",
        "learning_rate = 3e-5\n",
        "\n",
        "\n",
        "train_loader, valid_loader, _ = load_datasets(\"/content/train_RODI.json\",\n",
        "                                              \"/content/valid_RODI.json\",\n",
        "                                              \"/content/valid_RODI.json\",\n",
        "                                              tokenizer,\n",
        "                                              12)\n",
        "\n",
        "# move model over to detected device\n",
        "model.to(device)\n",
        "wandb.watch(model)\n",
        "\n",
        "# activate training mode of model\n",
        "model.train()\n",
        "# initialize adam optimizer with weight decay (reduces chance of overfitting)\n",
        "optim = AdamW(model.parameters(), lr=learning_rate)\n",
        "\n",
        "best_f1 = -1\n",
        "scheduler = get_linear_schedule_with_warmup(optim,\n",
        "                                            num_warmup_steps=len(train_loader),\n",
        "                                            num_training_steps=len(train_loader) * epochs)\n",
        "\n",
        "for epoch in range(epochs):\n",
        "    # set model to train mode\n",
        "    model.train()\n",
        "    total_loss = 0\n",
        "    # setup loop (we use tqdm for the progress bar)\n",
        "    loop = tqdm(train_loader, leave=True)\n",
        "    for i, batch in enumerate(loop):\n",
        "        # initialize calculated gradients (from prev step)\n",
        "        optim.zero_grad()\n",
        "        # pull all the tensor batches required for training\n",
        "        input_ids = batch['input_ids'].to(device)\n",
        "        attention_mask = batch['attention_mask'].to(device)\n",
        "        start_positions = batch['start_positions'].to(device)\n",
        "        end_positions = batch['end_positions'].to(device)\n",
        "        # train model on batch and return outputs (incl. loss)\n",
        "        outputs = model(input_ids, attention_mask=attention_mask,\n",
        "                        start_positions=start_positions,\n",
        "                        end_positions=end_positions)\n",
        "\n",
        "        # extract loss\n",
        "        loss = outputs[0]\n",
        "        total_loss += loss.item()\n",
        "        # calculate loss for every parameter that needs grad update\n",
        "        loss.backward()\n",
        "        # update parameters\n",
        "        optim.step()\n",
        "        scheduler.step()\n",
        "        # print relevant info to progress bar\n",
        "        loop.set_description(f'Epoch {epoch}')\n",
        "        loop.set_postfix(loss=total_loss / (i + 1))\n",
        "\n",
        "    total_em = 0\n",
        "    total_f1 = 0\n",
        "    model.eval()\n",
        "    loop = tqdm(valid_loader, leave=True)\n",
        "    for i, batch in enumerate(loop):\n",
        "        # pull all the tensor batches required for training\n",
        "        input_ids = batch['input_ids'].to(device)\n",
        "        attention_mask = batch['attention_mask'].to(device)\n",
        "        # train model on batch and return outputs (incl. loss)\n",
        "        outputs = model(input_ids, attention_mask=attention_mask)\n",
        "        # extract loss\n",
        "        em_score, f1_score = compute_scores(input_ids,\n",
        "                                            outputs.start_logits, outputs.end_logits,\n",
        "                                            batch[\"start_positions\"], batch[\"end_positions\"],\n",
        "                                            tokenizer)\n",
        "\n",
        "        total_em += em_score\n",
        "        total_f1 += f1_score\n",
        "\n",
        "        # print relevant info to progress bar\n",
        "        loop.set_description(f'Epoch {epoch}, EM {total_em / (i + 1)}, F1 {total_f1 / (i + 1)}')\n",
        "        wandb.log({\"Epoch\": epoch})\n",
        "        wandb.log({\"Excat match\": total_em / (i + 1)})\n",
        "        wandb.log({\"F1 score\": total_f1 / (i + 1)})\n",
        "   \n",
        "    if total_f1 / len(loop) > best_f1:\n",
        "        print(f\"Best checkpoint found: {best_f1} -> {total_f1 / len(loop)}\")\n",
        "        torch.save(model, \"model.pt\")\n",
        "        best_f1 = total_f1 / len(loop)"
      ],
      "metadata": {
        "colab": {
          "base_uri": "https://localhost:8080/"
        },
        "id": "BHIiaxFXcLQz",
        "outputId": "a135ace5-c373-4fce-c909-93d4a2d4c6e6"
      },
      "execution_count": 15,
      "outputs": [
        {
          "output_type": "stream",
          "name": "stderr",
          "text": [
            "Epoch 0: 100%|██████████| 559/559 [03:38<00:00,  2.56it/s, loss=5.58]\n",
            "Epoch 0, EM 0.029832935560859187, F1 0.20723389370876072: 100%|██████████| 1676/1676 [00:31<00:00, 52.87it/s]\n"
          ]
        },
        {
          "output_type": "stream",
          "name": "stdout",
          "text": [
            "Best checkpoint found: -1 -> 0.20723389370876072\n"
          ]
        },
        {
          "output_type": "stream",
          "name": "stderr",
          "text": [
            "Epoch 1: 100%|██████████| 559/559 [03:40<00:00,  2.54it/s, loss=4.23]\n",
            "Epoch 1, EM 0.04295942720763723, F1 0.2194032478899844: 100%|██████████| 1676/1676 [00:34<00:00, 48.48it/s]\n"
          ]
        },
        {
          "output_type": "stream",
          "name": "stdout",
          "text": [
            "Best checkpoint found: 0.20723389370876072 -> 0.2194032478899844\n"
          ]
        },
        {
          "output_type": "stream",
          "name": "stderr",
          "text": [
            "Epoch 2: 100%|██████████| 559/559 [03:40<00:00,  2.53it/s, loss=2.96]\n",
            "Epoch 2, EM 0.1652744630071599, F1 0.36396726838655713: 100%|██████████| 1676/1676 [00:31<00:00, 53.66it/s]\n"
          ]
        },
        {
          "output_type": "stream",
          "name": "stdout",
          "text": [
            "Best checkpoint found: 0.2194032478899844 -> 0.36396726838655713\n"
          ]
        },
        {
          "output_type": "stream",
          "name": "stderr",
          "text": [
            "Epoch 3: 100%|██████████| 559/559 [03:40<00:00,  2.54it/s, loss=2.13]\n",
            "Epoch 3, EM 0.21837708830548927, F1 0.41970189430781407: 100%|██████████| 1676/1676 [00:30<00:00, 54.32it/s]\n"
          ]
        },
        {
          "output_type": "stream",
          "name": "stdout",
          "text": [
            "Best checkpoint found: 0.36396726838655713 -> 0.41970189430781407\n"
          ]
        },
        {
          "output_type": "stream",
          "name": "stderr",
          "text": [
            "Epoch 4: 100%|██████████| 559/559 [03:40<00:00,  2.53it/s, loss=1.63]\n",
            "Epoch 4, EM 0.2386634844868735, F1 0.4633250792550908: 100%|██████████| 1676/1676 [00:31<00:00, 53.86it/s]\n"
          ]
        },
        {
          "output_type": "stream",
          "name": "stdout",
          "text": [
            "Best checkpoint found: 0.41970189430781407 -> 0.4633250792550908\n"
          ]
        },
        {
          "output_type": "stream",
          "name": "stderr",
          "text": [
            "Epoch 5: 100%|██████████| 559/559 [03:40<00:00,  2.54it/s, loss=1.3]\n",
            "Epoch 5, EM 0.24522673031026254, F1 0.4816735741024271: 100%|██████████| 1676/1676 [00:31<00:00, 53.73it/s]\n"
          ]
        },
        {
          "output_type": "stream",
          "name": "stdout",
          "text": [
            "Best checkpoint found: 0.4633250792550908 -> 0.4816735741024271\n"
          ]
        },
        {
          "output_type": "stream",
          "name": "stderr",
          "text": [
            "Epoch 6: 100%|██████████| 559/559 [03:40<00:00,  2.54it/s, loss=1.04]\n",
            "Epoch 6, EM 0.25477326968973746, F1 0.4732194024416979: 100%|██████████| 1676/1676 [00:31<00:00, 53.81it/s]\n",
            "Epoch 7: 100%|██████████| 559/559 [03:40<00:00,  2.53it/s, loss=0.866]\n",
            "Epoch 7, EM 0.24880668257756564, F1 0.47934116776197194: 100%|██████████| 1676/1676 [00:30<00:00, 54.25it/s]\n",
            "Epoch 8: 100%|██████████| 559/559 [03:40<00:00,  2.53it/s, loss=0.746]\n",
            "Epoch 8, EM 0.24880668257756564, F1 0.48215639481096434: 100%|██████████| 1676/1676 [00:31<00:00, 54.00it/s]\n"
          ]
        },
        {
          "output_type": "stream",
          "name": "stdout",
          "text": [
            "Best checkpoint found: 0.4816735741024271 -> 0.48215639481096434\n"
          ]
        },
        {
          "output_type": "stream",
          "name": "stderr",
          "text": [
            "Epoch 9: 100%|██████████| 559/559 [03:40<00:00,  2.53it/s, loss=0.611]\n",
            "Epoch 9, EM 0.2607398568019093, F1 0.4831207568172373: 100%|██████████| 1676/1676 [00:30<00:00, 54.70it/s]\n"
          ]
        },
        {
          "output_type": "stream",
          "name": "stdout",
          "text": [
            "Best checkpoint found: 0.48215639481096434 -> 0.4831207568172373\n"
          ]
        },
        {
          "output_type": "stream",
          "name": "stderr",
          "text": [
            "Epoch 10: 100%|██████████| 559/559 [03:40<00:00,  2.53it/s, loss=0.533]\n",
            "Epoch 10, EM 0.2535799522673031, F1 0.4738077866768777: 100%|██████████| 1676/1676 [00:31<00:00, 54.01it/s]\n",
            "Epoch 11: 100%|██████████| 559/559 [03:40<00:00,  2.54it/s, loss=0.455]\n",
            "Epoch 11, EM 0.25178997613365156, F1 0.4743864025776593: 100%|██████████| 1676/1676 [00:31<00:00, 53.66it/s]\n",
            "Epoch 12: 100%|██████████| 559/559 [03:40<00:00,  2.53it/s, loss=0.405]\n",
            "Epoch 12, EM 0.2541766109785203, F1 0.48411215665430113: 100%|██████████| 1676/1676 [00:31<00:00, 53.80it/s]\n"
          ]
        },
        {
          "output_type": "stream",
          "name": "stdout",
          "text": [
            "Best checkpoint found: 0.4831207568172373 -> 0.48411215665430113\n"
          ]
        },
        {
          "output_type": "stream",
          "name": "stderr",
          "text": [
            "Epoch 13: 100%|██████████| 559/559 [03:40<00:00,  2.54it/s, loss=0.36]\n",
            "Epoch 13, EM 0.25238663484486873, F1 0.47793904998259296: 100%|██████████| 1676/1676 [00:31<00:00, 53.86it/s]\n",
            "Epoch 14: 100%|██████████| 559/559 [03:40<00:00,  2.53it/s, loss=0.325]\n",
            "Epoch 14, EM 0.2571599045346062, F1 0.4759486990397487: 100%|██████████| 1676/1676 [00:31<00:00, 53.23it/s]\n",
            "Epoch 15: 100%|██████████| 559/559 [03:40<00:00,  2.54it/s, loss=0.276]\n",
            "Epoch 15, EM 0.24701670644391407, F1 0.47670055709823106: 100%|██████████| 1676/1676 [00:31<00:00, 53.56it/s]\n",
            "Epoch 16: 100%|██████████| 559/559 [03:40<00:00,  2.54it/s, loss=0.25]\n",
            "Epoch 16, EM 0.2583532219570406, F1 0.4774423342663875: 100%|██████████| 1676/1676 [00:31<00:00, 52.80it/s]\n",
            "Epoch 17: 100%|██████████| 559/559 [03:40<00:00,  2.53it/s, loss=0.228]\n",
            "Epoch 17, EM 0.25238663484486873, F1 0.47670187202611414: 100%|██████████| 1676/1676 [00:30<00:00, 54.38it/s]\n",
            "Epoch 18: 100%|██████████| 559/559 [03:40<00:00,  2.54it/s, loss=0.211]\n",
            "Epoch 18, EM 0.24821002386634844, F1 0.47574683970954235: 100%|██████████| 1676/1676 [00:31<00:00, 53.57it/s]\n",
            "Epoch 19: 100%|██████████| 559/559 [03:40<00:00,  2.54it/s, loss=0.208]\n",
            "Epoch 19, EM 0.26014319809069214, F1 0.47188246504474884: 100%|██████████| 1676/1676 [00:31<00:00, 53.86it/s]\n",
            "Epoch 20: 100%|██████████| 559/559 [03:40<00:00,  2.53it/s, loss=0.18]\n",
            "Epoch 20, EM 0.2541766109785203, F1 0.47418931137279885: 100%|██████████| 1676/1676 [00:31<00:00, 53.70it/s]\n",
            "Epoch 21: 100%|██████████| 559/559 [03:40<00:00,  2.54it/s, loss=0.157]\n",
            "Epoch 21, EM 0.2595465393794749, F1 0.47855828173680187: 100%|██████████| 1676/1676 [00:31<00:00, 53.93it/s]\n",
            "Epoch 22: 100%|██████████| 559/559 [03:40<00:00,  2.54it/s, loss=0.158]\n",
            "Epoch 22, EM 0.2577565632458234, F1 0.4793940442619701: 100%|██████████| 1676/1676 [00:31<00:00, 53.70it/s]\n",
            "Epoch 23: 100%|██████████| 559/559 [03:40<00:00,  2.53it/s, loss=0.154]\n",
            "Epoch 23, EM 0.25178997613365156, F1 0.4748859951819171: 100%|██████████| 1676/1676 [00:31<00:00, 53.60it/s]\n",
            "Epoch 24: 100%|██████████| 559/559 [03:40<00:00,  2.53it/s, loss=0.154]\n",
            "Epoch 24, EM 0.25178997613365156, F1 0.47467726080537365: 100%|██████████| 1676/1676 [00:33<00:00, 49.32it/s]\n"
          ]
        }
      ]
    },
    {
      "cell_type": "code",
      "source": [
        "model = torch.load(\"model.pt\", map_location=device)\n",
        "model.to(device)\n",
        "\n",
        "_, _, test_loader = load_datasets(\"/content/train_RODI.json\",\n",
        "                                  \"/content/valid_RODI.json\",\n",
        "                                  \"/content/valid_RODI.json\",\n",
        "                                  tokenizer,\n",
        "                                  1)\n",
        "\n",
        "total_em = 0\n",
        "total_f1 = 0\n",
        "model.eval()\n",
        "loop = tqdm(test_loader, leave=True)\n",
        "for i, batch in enumerate(loop):\n",
        "    # pull all the tensor batches required for training\n",
        "    input_ids = batch['input_ids'].to(device)\n",
        "    attention_mask = batch['attention_mask'].to(device)\n",
        "    # train model on batch and return outputs (incl. loss)\n",
        "    outputs = model(input_ids, attention_mask=attention_mask)\n",
        "    # extract loss\n",
        "    em_score, f1_score = compute_scores(input_ids,\n",
        "                                        outputs.start_logits, outputs.end_logits,\n",
        "                                        batch[\"start_positions\"], batch[\"end_positions\"],\n",
        "                                        tokenizer)\n",
        "\n",
        "    total_em += em_score\n",
        "    total_f1 += f1_score\n",
        "\n",
        "    # print relevant info to progress bar\n",
        "    loop.set_description(f'EM {total_em / (i + 1)}, F1 {total_f1 / (i + 1)}')\n",
        "\n",
        "print(f'Excat Match {total_em / (i + 1)}, F1 score {total_f1 / (i + 1)}')\n",
        "     "
      ],
      "metadata": {
        "colab": {
          "base_uri": "https://localhost:8080/"
        },
        "id": "X0hYW16NcLOk",
        "outputId": "85dab059-34ed-43e8-ccd1-3d0dfcff33d8"
      },
      "execution_count": 17,
      "outputs": [
        {
          "output_type": "stream",
          "name": "stderr",
          "text": [
            "EM 0.2541766109785203, F1 0.4841121566543009: 100%|██████████| 1676/1676 [00:28<00:00, 59.38it/s]\n"
          ]
        },
        {
          "output_type": "stream",
          "name": "stdout",
          "text": [
            "Excat Match 0.2541766109785203, F1 score 0.4841121566543009\n"
          ]
        }
      ]
    },
    {
      "cell_type": "code",
      "source": [],
      "metadata": {
        "id": "mhTsJgEPcLLy"
      },
      "execution_count": null,
      "outputs": []
    }
  ]
}